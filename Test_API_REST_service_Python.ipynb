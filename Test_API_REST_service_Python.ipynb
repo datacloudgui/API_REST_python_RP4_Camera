{
  "nbformat": 4,
  "nbformat_minor": 0,
  "metadata": {
    "colab": {
      "name": "Test_API_REST_service_Python.ipynb",
      "provenance": [],
      "collapsed_sections": [],
      "authorship_tag": "ABX9TyNXcZYict5oACFluetQR8sk",
      "include_colab_link": true
    },
    "kernelspec": {
      "name": "python3",
      "display_name": "Python 3"
    }
  },
  "cells": [
    {
      "cell_type": "markdown",
      "metadata": {
        "id": "view-in-github",
        "colab_type": "text"
      },
      "source": [
        "<a href=\"https://colab.research.google.com/github/datacloudgui/API_REST_python_RP4_Camera/blob/master/Test_API_REST_service_Python.ipynb\" target=\"_parent\"><img src=\"https://colab.research.google.com/assets/colab-badge.svg\" alt=\"Open In Colab\"/></a>"
      ]
    },
    {
      "cell_type": "code",
      "metadata": {
        "id": "K6avmbO_qhTj",
        "colab_type": "code",
        "colab": {
          "base_uri": "https://localhost:8080/",
          "height": 35
        },
        "outputId": "332854b5-82f8-4952-fd75-74825148a4f0"
      },
      "source": [
        "import requests\n",
        "response = requests.get('https://<yourpage>/api/logistica/consultarDatoLogistica?variable=temperatura')\n",
        "response.status_code"
      ],
      "execution_count": 3,
      "outputs": [
        {
          "output_type": "execute_result",
          "data": {
            "text/plain": [
              "200"
            ]
          },
          "metadata": {
            "tags": []
          },
          "execution_count": 3
        }
      ]
    },
    {
      "cell_type": "code",
      "metadata": {
        "id": "-YDRL0DltqmP",
        "colab_type": "code",
        "colab": {
          "base_uri": "https://localhost:8080/",
          "height": 54
        },
        "outputId": "0d8716b9-8c64-4c20-fcbc-baeb78ba7b53"
      },
      "source": [
        "response.json()"
      ],
      "execution_count": 4,
      "outputs": [
        {
          "output_type": "execute_result",
          "data": {
            "text/plain": [
              "[{'dato': '-18', 'fecha': '2020-07-08T15:52:45', 'variable': 'temperatura'},\n",
              " {'dato': '-22', 'fecha': '2020-07-08T10:05:12', 'variable': 'temperatura'}]"
            ]
          },
          "metadata": {
            "tags": []
          },
          "execution_count": 4
        }
      ]
    },
    {
      "cell_type": "code",
      "metadata": {
        "id": "4rBVgSeRuC5A",
        "colab_type": "code",
        "colab": {}
      },
      "source": [
        "import json\n",
        "Temp=response.json()\n",
        "json_data = json.loads(response.text)"
      ],
      "execution_count": 10,
      "outputs": []
    },
    {
      "cell_type": "code",
      "metadata": {
        "id": "L93KTHSRubUm",
        "colab_type": "code",
        "colab": {
          "base_uri": "https://localhost:8080/",
          "height": 35
        },
        "outputId": "cb3ec12d-7d6d-4107-b269-c1139dd04e58"
      },
      "source": [
        "type(Temp) #is a list"
      ],
      "execution_count": 9,
      "outputs": [
        {
          "output_type": "execute_result",
          "data": {
            "text/plain": [
              "{'dato': '-22', 'fecha': '2020-07-08T10:05:12', 'variable': 'temperatura'}"
            ]
          },
          "metadata": {
            "tags": []
          },
          "execution_count": 9
        }
      ]
    },
    {
      "cell_type": "code",
      "metadata": {
        "id": "CNTD_UV51BlO",
        "colab_type": "code",
        "colab": {}
      },
      "source": [
        "sampleDict = {\n",
        "    \"Dispositivo\": \"Raspberry1\",\n",
        "    \"codigo\": \"(91)01(11)190910(2)0198\",\n",
        "    \"Ubicacion\":\"1R231\",\n",
        "    \"temperatura\":\"-1\"\n",
        "}\n",
        "jsonData = json.dumps(sampleDict)"
      ],
      "execution_count": 23,
      "outputs": []
    },
    {
      "cell_type": "code",
      "metadata": {
        "id": "IcuoZogyyvtf",
        "colab_type": "code",
        "colab": {}
      },
      "source": [
        "newHeaders = {'Content-type': 'application/json'}\n",
        "\n",
        "postresponse = requests.post('https://<yourpage>/api/logistica/ingresarDatoLogistica',\n",
        "                         data=jsonData,\n",
        "                         headers=newHeaders)"
      ],
      "execution_count": 24,
      "outputs": []
    },
    {
      "cell_type": "code",
      "metadata": {
        "id": "CMPU_dhK2IaG",
        "colab_type": "code",
        "colab": {
          "base_uri": "https://localhost:8080/",
          "height": 72
        },
        "outputId": "c359a4ba-f31b-4cb3-ed84-209e7ef2c347"
      },
      "source": [
        "print(\"Status code: \", postresponse.status_code)\n",
        "print(\"Printing Entire Post Request\")\n",
        "print(postresponse)"
      ],
      "execution_count": 26,
      "outputs": [
        {
          "output_type": "stream",
          "text": [
            "Status code:  201\n",
            "Printing Entire Post Request\n",
            "<Response [201]>\n"
          ],
          "name": "stdout"
        }
      ]
    },
    {
      "cell_type": "code",
      "metadata": {
        "id": "0PTeXurX1_gD",
        "colab_type": "code",
        "colab": {}
      },
      "source": [
        ""
      ],
      "execution_count": null,
      "outputs": []
    }
  ]
}